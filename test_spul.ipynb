{
 "cells": [
  {
   "cell_type": "code",
   "execution_count": 2,
   "metadata": {},
   "outputs": [],
   "source": [
    "import pandas as pd\n",
    "import yfinance as yf\n",
    "import yahoofinancials as YahooFinancials"
   ]
  },
  {
   "cell_type": "code",
   "execution_count": null,
   "metadata": {},
   "outputs": [],
   "source": [
    "yf.Ticker('RDSA.AS').history(interval='1d', start='2020-11-04', end='2020-11-04')"
   ]
  },
  {
   "cell_type": "code",
   "execution_count": 5,
   "metadata": {},
   "outputs": [
    {
     "data": {
      "text/plain": [
       "{'previousClose': 55.38,\n",
       " 'regularMarketOpen': 55.08,\n",
       " 'twoHundredDayAverage': 54.903324,\n",
       " 'trailingAnnualDividendYield': None,\n",
       " 'payoutRatio': None,\n",
       " 'volume24Hr': None,\n",
       " 'regularMarketDayHigh': 56.51,\n",
       " 'navPrice': 53.28,\n",
       " 'averageDailyVolume10Day': 49591,\n",
       " 'totalAssets': 309504800,\n",
       " 'regularMarketPreviousClose': 55.38,\n",
       " 'fiftyDayAverage': 55.219143,\n",
       " 'trailingAnnualDividendRate': None,\n",
       " 'open': 55.08,\n",
       " 'toCurrency': None,\n",
       " 'averageVolume10days': 49591,\n",
       " 'expireDate': None,\n",
       " 'yield': 0.017400000000000002,\n",
       " 'algorithm': None,\n",
       " 'dividendRate': None,\n",
       " 'exDividendDate': None,\n",
       " 'beta': None,\n",
       " 'circulatingSupply': None,\n",
       " 'startDate': None,\n",
       " 'regularMarketDayLow': 54.67,\n",
       " 'priceHint': 2,\n",
       " 'currency': 'EUR',\n",
       " 'regularMarketVolume': 60837,\n",
       " 'lastMarket': None,\n",
       " 'maxSupply': None,\n",
       " 'openInterest': None,\n",
       " 'marketCap': None,\n",
       " 'volumeAllCurrencies': None,\n",
       " 'strikePrice': None,\n",
       " 'averageVolume': 34609,\n",
       " 'priceToSalesTrailing12Months': None,\n",
       " 'dayLow': 54.67,\n",
       " 'ask': 0,\n",
       " 'ytdReturn': None,\n",
       " 'askSize': 0,\n",
       " 'volume': 60837,\n",
       " 'fiftyTwoWeekHigh': 63,\n",
       " 'forwardPE': None,\n",
       " 'maxAge': 1,\n",
       " 'fromCurrency': None,\n",
       " 'fiveYearAvgDividendYield': None,\n",
       " 'fiftyTwoWeekLow': 38.89,\n",
       " 'bid': 0,\n",
       " 'tradeable': False,\n",
       " 'dividendYield': None,\n",
       " 'bidSize': 0,\n",
       " 'dayHigh': 56.51,\n",
       " 'exchange': 'AMS',\n",
       " 'shortName': 'ISHARES AEX',\n",
       " 'longName': 'iShares AEX UCITS ETF EUR (Dist)',\n",
       " 'exchangeTimezoneName': 'Europe/Amsterdam',\n",
       " 'exchangeTimezoneShortName': 'CET',\n",
       " 'isEsgPopulated': False,\n",
       " 'gmtOffSetMilliseconds': '3600000',\n",
       " 'quoteType': 'ETF',\n",
       " 'symbol': 'IAEX.AS',\n",
       " 'market': 'nl_market',\n",
       " 'annualHoldingsTurnover': None,\n",
       " 'enterpriseToRevenue': None,\n",
       " 'beta3Year': 0.97,\n",
       " 'profitMargins': None,\n",
       " 'enterpriseToEbitda': None,\n",
       " '52WeekChange': None,\n",
       " 'morningStarRiskRating': None,\n",
       " 'forwardEps': None,\n",
       " 'revenueQuarterlyGrowth': None,\n",
       " 'fundInceptionDate': 1132272000,\n",
       " 'annualReportExpenseRatio': None,\n",
       " 'bookValue': None,\n",
       " 'fundFamily': 'BlackRock Asset Management Ireland - ETF',\n",
       " 'lastFiscalYearEnd': None,\n",
       " 'netIncomeToCommon': None,\n",
       " 'trailingEps': None,\n",
       " 'lastDividendValue': None,\n",
       " 'SandP52WeekChange': None,\n",
       " 'priceToBook': None,\n",
       " 'nextFiscalYearEnd': None,\n",
       " 'mostRecentQuarter': None,\n",
       " 'enterpriseValue': None,\n",
       " 'threeYearAverageReturn': 0.015,\n",
       " 'lastSplitDate': None,\n",
       " 'lastSplitFactor': None,\n",
       " 'legalType': 'Exchange Traded Fund',\n",
       " 'lastDividendDate': None,\n",
       " 'morningStarOverallRating': None,\n",
       " 'earningsQuarterlyGrowth': None,\n",
       " 'pegRatio': None,\n",
       " 'lastCapGain': None,\n",
       " 'category': None,\n",
       " 'fiveYearAverageReturn': 0.056700002000000006,\n",
       " 'longBusinessSummary': 'The fund is an exchange traded fund (ETF) that aims to track the performance of the AEX-Index? as closely as possible.\\nThe ETF invests in physical index securities. The AEX-Index? offers exposure to the 25 most traded stocks which are listed on NYSE Euronext Amsterdam. The index is weighted by modified free float market capitalisation. iShares ETFs are funds managed by BlackRock. They are transparent, cost-efficient, liquid vehicles that trade on stock exchanges like normal securities. iShares ETFs offer flexible and easy access to a wide range of markets and asset classes.',\n",
       " 'companyOfficers': [],\n",
       " 'regularMarketPrice': 55.08,\n",
       " 'logo_url': ''}"
      ]
     },
     "execution_count": 5,
     "metadata": {},
     "output_type": "execute_result"
    }
   ],
   "source": [
    "yf.Ticker('IAEX.AS').info"
   ]
  },
  {
   "cell_type": "code",
   "execution_count": null,
   "metadata": {},
   "outputs": [],
   "source": []
  }
 ],
 "metadata": {
  "kernelspec": {
   "display_name": "Python 3",
   "language": "python",
   "name": "python3"
  },
  "language_info": {
   "codemirror_mode": {
    "name": "ipython",
    "version": 3
   },
   "file_extension": ".py",
   "mimetype": "text/x-python",
   "name": "python",
   "nbconvert_exporter": "python",
   "pygments_lexer": "ipython3",
   "version": "3.7.6"
  }
 },
 "nbformat": 4,
 "nbformat_minor": 4
}

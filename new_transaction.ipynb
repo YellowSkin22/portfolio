{
 "cells": [
  {
   "cell_type": "code",
   "execution_count": 2,
   "metadata": {},
   "outputs": [],
   "source": [
    "#import libraries\n",
    "import numpy as np\n",
    "import pandas as pd\n",
    "import time\n",
    "from datetime import date"
   ]
  },
  {
   "cell_type": "code",
   "execution_count": 3,
   "metadata": {},
   "outputs": [
    {
     "name": "stdout",
     "output_type": "stream",
     "text": [
      "Hello Bruce, have you performed new transactions today? (y/n)"
     ]
    }
   ],
   "source": [
    "welcome_message = \n",
    "\n",
    "def print_slow(str):\n",
    "    for letter in str:\n",
    "        print(letter, end= '')\n",
    "        time.sleep(.03)\n",
    "        \n",
    "def print_slower(str):\n",
    "    for letter in str:\n",
    "        print(letter, end= '')\n",
    "        time.sleep(.7)\n",
    "\n",
    "print_slow(welcome_message)\n"
   ]
  },
  {
   "cell_type": "code",
   "execution_count": null,
   "metadata": {},
   "outputs": [],
   "source": [
    "print_slow('Hello Bruce, have you performed new transactions today? (y/n))"
   ]
  },
  {
   "cell_type": "code",
   "execution_count": 4,
   "metadata": {},
   "outputs": [
    {
     "name": "stdout",
     "output_type": "stream",
     "text": [
      "y\n"
     ]
    }
   ],
   "source": [
    "welcome_reply = input().lower()"
   ]
  },
  {
   "cell_type": "code",
   "execution_count": 29,
   "metadata": {},
   "outputs": [
    {
     "name": "stdout",
     "output_type": "stream",
     "text": [
      "ok, what is the ticker: test\n"
     ]
    }
   ],
   "source": [
    "if welcome_reply == 'y':\n",
    "    print_slower('ok, ')\n",
    "    print_slow('what is the ticker: ')\n",
    "    ticker = input().upper()"
   ]
  },
  {
   "cell_type": "code",
   "execution_count": 6,
   "metadata": {},
   "outputs": [
    {
     "name": "stdout",
     "output_type": "stream",
     "text": [
      "What is the purchase price? 15.01\n"
     ]
    }
   ],
   "source": [
    "print_slow('What is the purchase price? ')\n",
    "buy_price = input()"
   ]
  },
  {
   "cell_type": "code",
   "execution_count": 7,
   "metadata": {},
   "outputs": [],
   "source": [
    "#buy price als float neerzetten\n",
    "buy_price = float(buy_price)"
   ]
  },
  {
   "cell_type": "code",
   "execution_count": 8,
   "metadata": {},
   "outputs": [
    {
     "name": "stdout",
     "output_type": "stream",
     "text": [
      "In which currency did you buy? EUR\n"
     ]
    }
   ],
   "source": [
    "print_slow('In which currency did you buy? ')\n",
    "currency = input().upper()"
   ]
  },
  {
   "cell_type": "code",
   "execution_count": 9,
   "metadata": {},
   "outputs": [
    {
     "name": "stdout",
     "output_type": "stream",
     "text": [
      "How many shares did you buy? 1\n"
     ]
    }
   ],
   "source": [
    "#vraag naar hoeveelheid shares\n",
    "print_slow('How many shares did you buy? ')\n",
    "shares = input()"
   ]
  },
  {
   "cell_type": "code",
   "execution_count": 10,
   "metadata": {},
   "outputs": [],
   "source": [
    "#shares omzetten naar int\n",
    "shares = int(shares)"
   ]
  },
  {
   "cell_type": "code",
   "execution_count": 11,
   "metadata": {},
   "outputs": [],
   "source": [
    "#set buy_date as today\n",
    "buy_date = date.today()"
   ]
  },
  {
   "cell_type": "code",
   "execution_count": 12,
   "metadata": {},
   "outputs": [],
   "source": [
    "#set status as completed\n",
    "status = 'completed'"
   ]
  },
  {
   "cell_type": "code",
   "execution_count": 13,
   "metadata": {},
   "outputs": [
    {
     "name": "stdout",
     "output_type": "stream",
     "text": [
      "What is the sector? all\n"
     ]
    }
   ],
   "source": [
    "#define sector\n",
    "print_slow('What is the sector? ')\n",
    "sector = input()"
   ]
  },
  {
   "cell_type": "code",
   "execution_count": 14,
   "metadata": {},
   "outputs": [
    {
     "name": "stdout",
     "output_type": "stream",
     "text": [
      "What is the region? nl\n"
     ]
    }
   ],
   "source": [
    "#define region\n",
    "print_slow('What is the region? ')\n",
    "region = input().upper()"
   ]
  },
  {
   "cell_type": "code",
   "execution_count": 15,
   "metadata": {},
   "outputs": [],
   "source": [
    "df_new = pd.DataFrame(columns='ticker shares buy_price currency buy_date status sector region'.split())"
   ]
  },
  {
   "cell_type": "code",
   "execution_count": 18,
   "metadata": {},
   "outputs": [],
   "source": [
    "#add new row to index\n",
    "df_new.loc[-1] = [ticker, shares, buy_price, currency, buy_date, status, sector, region]\n",
    "\n",
    "#shift index\n",
    "df_new.index = df_new.index + 1  # shifting index"
   ]
  },
  {
   "cell_type": "code",
   "execution_count": 19,
   "metadata": {},
   "outputs": [],
   "source": [
    "df_trans = pd.read_excel('my_portfolio.xlsx')"
   ]
  },
  {
   "cell_type": "code",
   "execution_count": 20,
   "metadata": {},
   "outputs": [
    {
     "data": {
      "text/html": [
       "<div>\n",
       "<style scoped>\n",
       "    .dataframe tbody tr th:only-of-type {\n",
       "        vertical-align: middle;\n",
       "    }\n",
       "\n",
       "    .dataframe tbody tr th {\n",
       "        vertical-align: top;\n",
       "    }\n",
       "\n",
       "    .dataframe thead th {\n",
       "        text-align: right;\n",
       "    }\n",
       "</style>\n",
       "<table border=\"1\" class=\"dataframe\">\n",
       "  <thead>\n",
       "    <tr style=\"text-align: right;\">\n",
       "      <th></th>\n",
       "      <th>ticker</th>\n",
       "      <th>shares</th>\n",
       "      <th>buy_price</th>\n",
       "      <th>currency</th>\n",
       "      <th>buy_date</th>\n",
       "      <th>status</th>\n",
       "      <th>sector</th>\n",
       "      <th>region</th>\n",
       "    </tr>\n",
       "  </thead>\n",
       "  <tbody>\n",
       "    <tr>\n",
       "      <th>0</th>\n",
       "      <td>VUSA.AS</td>\n",
       "      <td>1</td>\n",
       "      <td>54.91</td>\n",
       "      <td>EUR</td>\n",
       "      <td>2020-25-10</td>\n",
       "      <td>completed</td>\n",
       "      <td>all</td>\n",
       "      <td>US</td>\n",
       "    </tr>\n",
       "  </tbody>\n",
       "</table>\n",
       "</div>"
      ],
      "text/plain": [
       "    ticker  shares  buy_price currency    buy_date     status sector region\n",
       "0  VUSA.AS       1      54.91      EUR  2020-25-10  completed    all     US"
      ]
     },
     "execution_count": 20,
     "metadata": {},
     "output_type": "execute_result"
    }
   ],
   "source": [
    "df_trans"
   ]
  },
  {
   "cell_type": "code",
   "execution_count": 21,
   "metadata": {},
   "outputs": [
    {
     "data": {
      "text/html": [
       "<div>\n",
       "<style scoped>\n",
       "    .dataframe tbody tr th:only-of-type {\n",
       "        vertical-align: middle;\n",
       "    }\n",
       "\n",
       "    .dataframe tbody tr th {\n",
       "        vertical-align: top;\n",
       "    }\n",
       "\n",
       "    .dataframe thead th {\n",
       "        text-align: right;\n",
       "    }\n",
       "</style>\n",
       "<table border=\"1\" class=\"dataframe\">\n",
       "  <thead>\n",
       "    <tr style=\"text-align: right;\">\n",
       "      <th></th>\n",
       "      <th>ticker</th>\n",
       "      <th>shares</th>\n",
       "      <th>buy_price</th>\n",
       "      <th>currency</th>\n",
       "      <th>buy_date</th>\n",
       "      <th>status</th>\n",
       "      <th>sector</th>\n",
       "      <th>region</th>\n",
       "    </tr>\n",
       "  </thead>\n",
       "  <tbody>\n",
       "    <tr>\n",
       "      <th>0</th>\n",
       "      <td>TEST</td>\n",
       "      <td>1</td>\n",
       "      <td>15.01</td>\n",
       "      <td>EUR</td>\n",
       "      <td>2020-11-01</td>\n",
       "      <td>completed</td>\n",
       "      <td>all</td>\n",
       "      <td>NL</td>\n",
       "    </tr>\n",
       "  </tbody>\n",
       "</table>\n",
       "</div>"
      ],
      "text/plain": [
       "  ticker shares  buy_price currency    buy_date     status sector region\n",
       "0   TEST      1      15.01      EUR  2020-11-01  completed    all     NL"
      ]
     },
     "execution_count": 21,
     "metadata": {},
     "output_type": "execute_result"
    }
   ],
   "source": [
    "df_new"
   ]
  },
  {
   "cell_type": "code",
   "execution_count": 22,
   "metadata": {},
   "outputs": [
    {
     "data": {
      "text/html": [
       "<div>\n",
       "<style scoped>\n",
       "    .dataframe tbody tr th:only-of-type {\n",
       "        vertical-align: middle;\n",
       "    }\n",
       "\n",
       "    .dataframe tbody tr th {\n",
       "        vertical-align: top;\n",
       "    }\n",
       "\n",
       "    .dataframe thead th {\n",
       "        text-align: right;\n",
       "    }\n",
       "</style>\n",
       "<table border=\"1\" class=\"dataframe\">\n",
       "  <thead>\n",
       "    <tr style=\"text-align: right;\">\n",
       "      <th></th>\n",
       "      <th>ticker</th>\n",
       "      <th>shares</th>\n",
       "      <th>buy_price</th>\n",
       "      <th>currency</th>\n",
       "      <th>buy_date</th>\n",
       "      <th>status</th>\n",
       "      <th>sector</th>\n",
       "      <th>region</th>\n",
       "    </tr>\n",
       "  </thead>\n",
       "  <tbody>\n",
       "    <tr>\n",
       "      <th>0</th>\n",
       "      <td>VUSA.AS</td>\n",
       "      <td>1</td>\n",
       "      <td>54.91</td>\n",
       "      <td>EUR</td>\n",
       "      <td>2020-25-10</td>\n",
       "      <td>completed</td>\n",
       "      <td>all</td>\n",
       "      <td>US</td>\n",
       "    </tr>\n",
       "    <tr>\n",
       "      <th>0</th>\n",
       "      <td>TEST</td>\n",
       "      <td>1</td>\n",
       "      <td>15.01</td>\n",
       "      <td>EUR</td>\n",
       "      <td>2020-11-01</td>\n",
       "      <td>completed</td>\n",
       "      <td>all</td>\n",
       "      <td>NL</td>\n",
       "    </tr>\n",
       "  </tbody>\n",
       "</table>\n",
       "</div>"
      ],
      "text/plain": [
       "    ticker shares  buy_price currency    buy_date     status sector region\n",
       "0  VUSA.AS      1      54.91      EUR  2020-25-10  completed    all     US\n",
       "0     TEST      1      15.01      EUR  2020-11-01  completed    all     NL"
      ]
     },
     "execution_count": 22,
     "metadata": {},
     "output_type": "execute_result"
    }
   ],
   "source": [
    "df_updated = pd.concat([df_trans,df_new])\n",
    "df_updated"
   ]
  },
  {
   "cell_type": "code",
   "execution_count": 30,
   "metadata": {},
   "outputs": [],
   "source": [
    "#incase of duplicates, remove them. \n",
    "df_updated.drop_duplicates(inplace=True)"
   ]
  },
  {
   "cell_type": "code",
   "execution_count": 31,
   "metadata": {},
   "outputs": [],
   "source": [
    "df_updated.to_excel('my_portfolio.xlsx',sheet_name='Sheet1')"
   ]
  },
  {
   "cell_type": "code",
   "execution_count": 32,
   "metadata": {},
   "outputs": [
    {
     "name": "stdout",
     "output_type": "stream",
     "text": [
      "Your transactions have been updated."
     ]
    }
   ],
   "source": [
    "print_slow('Your transactions have been updated.')"
   ]
  },
  {
   "cell_type": "code",
   "execution_count": null,
   "metadata": {},
   "outputs": [],
   "source": []
  }
 ],
 "metadata": {
  "kernelspec": {
   "display_name": "Python 3",
   "language": "python",
   "name": "python3"
  },
  "language_info": {
   "codemirror_mode": {
    "name": "ipython",
    "version": 3
   },
   "file_extension": ".py",
   "mimetype": "text/x-python",
   "name": "python",
   "nbconvert_exporter": "python",
   "pygments_lexer": "ipython3",
   "version": "3.7.6"
  }
 },
 "nbformat": 4,
 "nbformat_minor": 4
}

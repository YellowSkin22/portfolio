{
 "cells": [
  {
   "cell_type": "code",
   "execution_count": 22,
   "metadata": {},
   "outputs": [],
   "source": [
    "#import used libraries\n",
    "import numpy as np\n",
    "import pandas as pd\n",
    "import yfinance as yf"
   ]
  },
  {
   "cell_type": "code",
   "execution_count": 23,
   "metadata": {},
   "outputs": [
    {
     "data": {
      "text/html": [
       "<div>\n",
       "<style scoped>\n",
       "    .dataframe tbody tr th:only-of-type {\n",
       "        vertical-align: middle;\n",
       "    }\n",
       "\n",
       "    .dataframe tbody tr th {\n",
       "        vertical-align: top;\n",
       "    }\n",
       "\n",
       "    .dataframe thead th {\n",
       "        text-align: right;\n",
       "    }\n",
       "</style>\n",
       "<table border=\"1\" class=\"dataframe\">\n",
       "  <thead>\n",
       "    <tr style=\"text-align: right;\">\n",
       "      <th></th>\n",
       "      <th>ticker</th>\n",
       "      <th>shares</th>\n",
       "      <th>buy_price</th>\n",
       "      <th>currency</th>\n",
       "      <th>buy_date</th>\n",
       "      <th>status</th>\n",
       "      <th>sector</th>\n",
       "      <th>region</th>\n",
       "    </tr>\n",
       "  </thead>\n",
       "  <tbody>\n",
       "    <tr>\n",
       "      <th>0</th>\n",
       "      <td>VUSA.AS</td>\n",
       "      <td>1</td>\n",
       "      <td>54.91</td>\n",
       "      <td>EUR</td>\n",
       "      <td>2020-10-25</td>\n",
       "      <td>completed</td>\n",
       "      <td>all</td>\n",
       "      <td>NL</td>\n",
       "    </tr>\n",
       "    <tr>\n",
       "      <th>1</th>\n",
       "      <td>IAEX.AS</td>\n",
       "      <td>1</td>\n",
       "      <td>53.44</td>\n",
       "      <td>EUR</td>\n",
       "      <td>2020-11-02</td>\n",
       "      <td>completed</td>\n",
       "      <td>all</td>\n",
       "      <td>US</td>\n",
       "    </tr>\n",
       "  </tbody>\n",
       "</table>\n",
       "</div>"
      ],
      "text/plain": [
       "    ticker  shares  buy_price currency    buy_date     status sector region\n",
       "0  VUSA.AS       1      54.91      EUR  2020-10-25  completed    all     NL\n",
       "1  IAEX.AS       1      53.44      EUR  2020-11-02  completed    all     US"
      ]
     },
     "execution_count": 23,
     "metadata": {},
     "output_type": "execute_result"
    }
   ],
   "source": [
    "#create df transactions\n",
    "df_trans = pd.read_excel('my_transactions.xlsx', sheet_name='Sheet1', index_col=[0])\n",
    "df_trans"
   ]
  },
  {
   "cell_type": "code",
   "execution_count": 24,
   "metadata": {},
   "outputs": [],
   "source": [
    "#create df financials\n",
    "df_fin = df_trans.drop(['shares', 'currency', 'buy_date', 'sector', 'region', 'status'], axis=1)"
   ]
  },
  {
   "cell_type": "code",
   "execution_count": 25,
   "metadata": {},
   "outputs": [],
   "source": [
    "#group by 'ticker' and define mean\n",
    "df_fin_avg = df_fin.groupby('ticker').mean('buy_price')\n",
    "\n",
    "#rename column\n",
    "df_fin_avg.rename(columns={'buy_price':'avg_buy'}, inplace=True)"
   ]
  },
  {
   "cell_type": "code",
   "execution_count": 26,
   "metadata": {},
   "outputs": [
    {
     "data": {
      "text/html": [
       "<div>\n",
       "<style scoped>\n",
       "    .dataframe tbody tr th:only-of-type {\n",
       "        vertical-align: middle;\n",
       "    }\n",
       "\n",
       "    .dataframe tbody tr th {\n",
       "        vertical-align: top;\n",
       "    }\n",
       "\n",
       "    .dataframe thead th {\n",
       "        text-align: right;\n",
       "    }\n",
       "</style>\n",
       "<table border=\"1\" class=\"dataframe\">\n",
       "  <thead>\n",
       "    <tr style=\"text-align: right;\">\n",
       "      <th></th>\n",
       "      <th>ticker</th>\n",
       "      <th>buy_price</th>\n",
       "      <th>avg_buy</th>\n",
       "    </tr>\n",
       "  </thead>\n",
       "  <tbody>\n",
       "    <tr>\n",
       "      <th>0</th>\n",
       "      <td>VUSA.AS</td>\n",
       "      <td>54.91</td>\n",
       "      <td>54.91</td>\n",
       "    </tr>\n",
       "    <tr>\n",
       "      <th>1</th>\n",
       "      <td>IAEX.AS</td>\n",
       "      <td>53.44</td>\n",
       "      <td>53.44</td>\n",
       "    </tr>\n",
       "  </tbody>\n",
       "</table>\n",
       "</div>"
      ],
      "text/plain": [
       "    ticker  buy_price  avg_buy\n",
       "0  VUSA.AS      54.91    54.91\n",
       "1  IAEX.AS      53.44    53.44"
      ]
     },
     "execution_count": 26,
     "metadata": {},
     "output_type": "execute_result"
    }
   ],
   "source": [
    "#merge df financial with df average buy\n",
    "df_fin = pd.merge(df_fin,df_fin_avg,how='inner',on='ticker')\n",
    "df_fin"
   ]
  },
  {
   "cell_type": "code",
   "execution_count": 27,
   "metadata": {},
   "outputs": [],
   "source": [
    "#collect tickers in a list\n",
    "my_tickers = df_fin['ticker'].tolist()\n",
    "\n",
    "#create variable tickers\n",
    "tickers = yf.Tickers(my_tickers)"
   ]
  },
  {
   "cell_type": "code",
   "execution_count": 28,
   "metadata": {},
   "outputs": [
    {
     "data": {
      "text/html": [
       "<div>\n",
       "<style scoped>\n",
       "    .dataframe tbody tr th:only-of-type {\n",
       "        vertical-align: middle;\n",
       "    }\n",
       "\n",
       "    .dataframe tbody tr th {\n",
       "        vertical-align: top;\n",
       "    }\n",
       "\n",
       "    .dataframe thead th {\n",
       "        text-align: right;\n",
       "    }\n",
       "</style>\n",
       "<table border=\"1\" class=\"dataframe\">\n",
       "  <thead>\n",
       "    <tr style=\"text-align: right;\">\n",
       "      <th></th>\n",
       "      <th>ticker</th>\n",
       "      <th>open_price</th>\n",
       "    </tr>\n",
       "  </thead>\n",
       "  <tbody>\n",
       "  </tbody>\n",
       "</table>\n",
       "</div>"
      ],
      "text/plain": [
       "Empty DataFrame\n",
       "Columns: [ticker, open_price]\n",
       "Index: []"
      ]
     },
     "execution_count": 28,
     "metadata": {},
     "output_type": "execute_result"
    }
   ],
   "source": [
    "df_openPrice = pd.DataFrame(columns = ['ticker', 'open_price'])\n",
    "df_openPrice"
   ]
  },
  {
   "cell_type": "code",
   "execution_count": 29,
   "metadata": {},
   "outputs": [
    {
     "data": {
      "text/html": [
       "<div>\n",
       "<style scoped>\n",
       "    .dataframe tbody tr th:only-of-type {\n",
       "        vertical-align: middle;\n",
       "    }\n",
       "\n",
       "    .dataframe tbody tr th {\n",
       "        vertical-align: top;\n",
       "    }\n",
       "\n",
       "    .dataframe thead th {\n",
       "        text-align: right;\n",
       "    }\n",
       "</style>\n",
       "<table border=\"1\" class=\"dataframe\">\n",
       "  <thead>\n",
       "    <tr style=\"text-align: right;\">\n",
       "      <th></th>\n",
       "      <th>ticker</th>\n",
       "      <th>open_price</th>\n",
       "    </tr>\n",
       "  </thead>\n",
       "  <tbody>\n",
       "    <tr>\n",
       "      <th>0</th>\n",
       "      <td>VUSA.AS</td>\n",
       "      <td>56.203</td>\n",
       "    </tr>\n",
       "    <tr>\n",
       "      <th>1</th>\n",
       "      <td>IAEX.AS</td>\n",
       "      <td>57.020</td>\n",
       "    </tr>\n",
       "  </tbody>\n",
       "</table>\n",
       "</div>"
      ],
      "text/plain": [
       "    ticker  open_price\n",
       "0  VUSA.AS      56.203\n",
       "1  IAEX.AS      57.020"
      ]
     },
     "execution_count": 29,
     "metadata": {},
     "output_type": "execute_result"
    }
   ],
   "source": [
    "#activate per ticker mode\n",
    "for ticker in my_tickers:\n",
    "    \n",
    "    #collect opening price\n",
    "    open_price = yf.Ticker(ticker).info.get('open')\n",
    "    \n",
    "    #write to dataframe df_fin\n",
    "    df_openPrice = df_openPrice.append(pd.Series([ticker, open_price], index=df_openPrice.columns), ignore_index=True)\n",
    "\n",
    "df_openPrice"
   ]
  },
  {
   "cell_type": "code",
   "execution_count": 30,
   "metadata": {},
   "outputs": [
    {
     "data": {
      "text/html": [
       "<div>\n",
       "<style scoped>\n",
       "    .dataframe tbody tr th:only-of-type {\n",
       "        vertical-align: middle;\n",
       "    }\n",
       "\n",
       "    .dataframe tbody tr th {\n",
       "        vertical-align: top;\n",
       "    }\n",
       "\n",
       "    .dataframe thead th {\n",
       "        text-align: right;\n",
       "    }\n",
       "</style>\n",
       "<table border=\"1\" class=\"dataframe\">\n",
       "  <thead>\n",
       "    <tr style=\"text-align: right;\">\n",
       "      <th></th>\n",
       "      <th>ticker</th>\n",
       "      <th>buy_price</th>\n",
       "      <th>avg_buy</th>\n",
       "      <th>open_price</th>\n",
       "    </tr>\n",
       "  </thead>\n",
       "  <tbody>\n",
       "    <tr>\n",
       "      <th>0</th>\n",
       "      <td>VUSA.AS</td>\n",
       "      <td>54.91</td>\n",
       "      <td>54.91</td>\n",
       "      <td>56.203</td>\n",
       "    </tr>\n",
       "    <tr>\n",
       "      <th>1</th>\n",
       "      <td>IAEX.AS</td>\n",
       "      <td>53.44</td>\n",
       "      <td>53.44</td>\n",
       "      <td>57.020</td>\n",
       "    </tr>\n",
       "  </tbody>\n",
       "</table>\n",
       "</div>"
      ],
      "text/plain": [
       "    ticker  buy_price  avg_buy  open_price\n",
       "0  VUSA.AS      54.91    54.91      56.203\n",
       "1  IAEX.AS      53.44    53.44      57.020"
      ]
     },
     "execution_count": 30,
     "metadata": {},
     "output_type": "execute_result"
    }
   ],
   "source": [
    "#join the two indexes / data frames\n",
    "df_fin = pd.merge(df_fin,df_openPrice,how='inner',on='ticker')\n",
    "df_fin"
   ]
  },
  {
   "cell_type": "code",
   "execution_count": 31,
   "metadata": {},
   "outputs": [
    {
     "data": {
      "text/html": [
       "<div>\n",
       "<style scoped>\n",
       "    .dataframe tbody tr th:only-of-type {\n",
       "        vertical-align: middle;\n",
       "    }\n",
       "\n",
       "    .dataframe tbody tr th {\n",
       "        vertical-align: top;\n",
       "    }\n",
       "\n",
       "    .dataframe thead th {\n",
       "        text-align: right;\n",
       "    }\n",
       "</style>\n",
       "<table border=\"1\" class=\"dataframe\">\n",
       "  <thead>\n",
       "    <tr style=\"text-align: right;\">\n",
       "      <th></th>\n",
       "      <th>ticker</th>\n",
       "      <th>buy_price</th>\n",
       "      <th>avg_buy</th>\n",
       "      <th>open_price</th>\n",
       "      <th>shares</th>\n",
       "    </tr>\n",
       "  </thead>\n",
       "  <tbody>\n",
       "    <tr>\n",
       "      <th>0</th>\n",
       "      <td>VUSA.AS</td>\n",
       "      <td>54.91</td>\n",
       "      <td>54.91</td>\n",
       "      <td>56.203</td>\n",
       "      <td>1</td>\n",
       "    </tr>\n",
       "    <tr>\n",
       "      <th>1</th>\n",
       "      <td>IAEX.AS</td>\n",
       "      <td>53.44</td>\n",
       "      <td>53.44</td>\n",
       "      <td>57.020</td>\n",
       "      <td>1</td>\n",
       "    </tr>\n",
       "  </tbody>\n",
       "</table>\n",
       "</div>"
      ],
      "text/plain": [
       "    ticker  buy_price  avg_buy  open_price  shares\n",
       "0  VUSA.AS      54.91    54.91      56.203       1\n",
       "1  IAEX.AS      53.44    53.44      57.020       1"
      ]
     },
     "execution_count": 31,
     "metadata": {},
     "output_type": "execute_result"
    }
   ],
   "source": [
    "#berekenen van huidige waarde\n",
    "df_fin_shares = df_trans[['ticker', 'shares']]\n",
    "\n",
    "df_fin_shares = df_fin_shares.groupby('ticker').sum()\n",
    "\n",
    "#toevoegen aan df fin\n",
    "df_fin = pd.merge(df_fin, df_fin_shares, how='inner', on='ticker')\n",
    "df_fin"
   ]
  },
  {
   "cell_type": "code",
   "execution_count": 32,
   "metadata": {},
   "outputs": [
    {
     "data": {
      "text/html": [
       "<div>\n",
       "<style scoped>\n",
       "    .dataframe tbody tr th:only-of-type {\n",
       "        vertical-align: middle;\n",
       "    }\n",
       "\n",
       "    .dataframe tbody tr th {\n",
       "        vertical-align: top;\n",
       "    }\n",
       "\n",
       "    .dataframe thead th {\n",
       "        text-align: right;\n",
       "    }\n",
       "</style>\n",
       "<table border=\"1\" class=\"dataframe\">\n",
       "  <thead>\n",
       "    <tr style=\"text-align: right;\">\n",
       "      <th></th>\n",
       "      <th>ticker</th>\n",
       "      <th>buy_price</th>\n",
       "      <th>avg_buy</th>\n",
       "      <th>open_price</th>\n",
       "      <th>shares</th>\n",
       "      <th>gain_ps</th>\n",
       "      <th>gain_total</th>\n",
       "      <th>value_total</th>\n",
       "    </tr>\n",
       "  </thead>\n",
       "  <tbody>\n",
       "    <tr>\n",
       "      <th>0</th>\n",
       "      <td>VUSA.AS</td>\n",
       "      <td>54.91</td>\n",
       "      <td>54.91</td>\n",
       "      <td>56.203</td>\n",
       "      <td>1</td>\n",
       "      <td>1.293</td>\n",
       "      <td>1.293</td>\n",
       "      <td>56.203</td>\n",
       "    </tr>\n",
       "    <tr>\n",
       "      <th>1</th>\n",
       "      <td>IAEX.AS</td>\n",
       "      <td>53.44</td>\n",
       "      <td>53.44</td>\n",
       "      <td>57.020</td>\n",
       "      <td>1</td>\n",
       "      <td>3.580</td>\n",
       "      <td>3.580</td>\n",
       "      <td>57.020</td>\n",
       "    </tr>\n",
       "  </tbody>\n",
       "</table>\n",
       "</div>"
      ],
      "text/plain": [
       "    ticker  buy_price  avg_buy  open_price  shares  gain_ps  gain_total  \\\n",
       "0  VUSA.AS      54.91    54.91      56.203       1    1.293       1.293   \n",
       "1  IAEX.AS      53.44    53.44      57.020       1    3.580       3.580   \n",
       "\n",
       "   value_total  \n",
       "0       56.203  \n",
       "1       57.020  "
      ]
     },
     "execution_count": 32,
     "metadata": {},
     "output_type": "execute_result"
    }
   ],
   "source": [
    "#add col gain per share and gain total and value_Total\n",
    "df_fin['gain_ps'] = df_fin['open_price'] - df_fin['avg_buy']\n",
    "df_fin['gain_total'] = df_fin['gain_ps'] * df_fin['shares']\n",
    "df_fin['value_total'] = df_fin['shares'] * df_fin['open_price']\n",
    "df_fin"
   ]
  },
  {
   "cell_type": "code",
   "execution_count": 33,
   "metadata": {},
   "outputs": [
    {
     "data": {
      "text/html": [
       "<div>\n",
       "<style scoped>\n",
       "    .dataframe tbody tr th:only-of-type {\n",
       "        vertical-align: middle;\n",
       "    }\n",
       "\n",
       "    .dataframe tbody tr th {\n",
       "        vertical-align: top;\n",
       "    }\n",
       "\n",
       "    .dataframe thead th {\n",
       "        text-align: right;\n",
       "    }\n",
       "</style>\n",
       "<table border=\"1\" class=\"dataframe\">\n",
       "  <thead>\n",
       "    <tr style=\"text-align: right;\">\n",
       "      <th></th>\n",
       "      <th>ticker</th>\n",
       "      <th>buy_price</th>\n",
       "      <th>avg_buy</th>\n",
       "      <th>open_price</th>\n",
       "      <th>shares</th>\n",
       "      <th>gain_ps</th>\n",
       "      <th>gain_total</th>\n",
       "      <th>value_total</th>\n",
       "      <th>growth_perc</th>\n",
       "    </tr>\n",
       "  </thead>\n",
       "  <tbody>\n",
       "    <tr>\n",
       "      <th>0</th>\n",
       "      <td>VUSA.AS</td>\n",
       "      <td>54.91</td>\n",
       "      <td>54.91</td>\n",
       "      <td>56.203</td>\n",
       "      <td>1</td>\n",
       "      <td>1.293</td>\n",
       "      <td>1.293</td>\n",
       "      <td>56.203</td>\n",
       "      <td>2.35</td>\n",
       "    </tr>\n",
       "    <tr>\n",
       "      <th>1</th>\n",
       "      <td>IAEX.AS</td>\n",
       "      <td>53.44</td>\n",
       "      <td>53.44</td>\n",
       "      <td>57.020</td>\n",
       "      <td>1</td>\n",
       "      <td>3.580</td>\n",
       "      <td>3.580</td>\n",
       "      <td>57.020</td>\n",
       "      <td>6.70</td>\n",
       "    </tr>\n",
       "  </tbody>\n",
       "</table>\n",
       "</div>"
      ],
      "text/plain": [
       "    ticker  buy_price  avg_buy  open_price  shares  gain_ps  gain_total  \\\n",
       "0  VUSA.AS      54.91    54.91      56.203       1    1.293       1.293   \n",
       "1  IAEX.AS      53.44    53.44      57.020       1    3.580       3.580   \n",
       "\n",
       "   value_total  growth_perc  \n",
       "0       56.203         2.35  \n",
       "1       57.020         6.70  "
      ]
     },
     "execution_count": 33,
     "metadata": {},
     "output_type": "execute_result"
    }
   ],
   "source": [
    "#calculate growth percentage\n",
    "df_fin['growth_perc'] = ((df_fin['open_price'] - df_fin['avg_buy']) / df_fin['avg_buy']) * 100\n",
    "df_fin['growth_perc'] = round(df_fin['growth_perc'], 2)\n",
    "df_fin"
   ]
  },
  {
   "cell_type": "code",
   "execution_count": 34,
   "metadata": {},
   "outputs": [
    {
     "data": {
      "text/plain": [
       "['ticker',\n",
       " 'buy_price',\n",
       " 'avg_buy',\n",
       " 'open_price',\n",
       " 'shares',\n",
       " 'gain_ps',\n",
       " 'gain_total',\n",
       " 'value_total',\n",
       " 'growth_perc']"
      ]
     },
     "execution_count": 34,
     "metadata": {},
     "output_type": "execute_result"
    }
   ],
   "source": [
    "#aanpassen kolom structuur\n",
    "cols = list(df_fin.columns.values)\n",
    "cols"
   ]
  },
  {
   "cell_type": "code",
   "execution_count": 35,
   "metadata": {},
   "outputs": [
    {
     "data": {
      "text/html": [
       "<div>\n",
       "<style scoped>\n",
       "    .dataframe tbody tr th:only-of-type {\n",
       "        vertical-align: middle;\n",
       "    }\n",
       "\n",
       "    .dataframe tbody tr th {\n",
       "        vertical-align: top;\n",
       "    }\n",
       "\n",
       "    .dataframe thead th {\n",
       "        text-align: right;\n",
       "    }\n",
       "</style>\n",
       "<table border=\"1\" class=\"dataframe\">\n",
       "  <thead>\n",
       "    <tr style=\"text-align: right;\">\n",
       "      <th></th>\n",
       "      <th>ticker</th>\n",
       "      <th>open_price</th>\n",
       "      <th>growth_perc</th>\n",
       "      <th>gain_total</th>\n",
       "      <th>value_total</th>\n",
       "      <th>buy_price</th>\n",
       "      <th>shares</th>\n",
       "      <th>gain_ps</th>\n",
       "      <th>avg_buy</th>\n",
       "    </tr>\n",
       "  </thead>\n",
       "  <tbody>\n",
       "    <tr>\n",
       "      <th>0</th>\n",
       "      <td>VUSA.AS</td>\n",
       "      <td>56.203</td>\n",
       "      <td>2.35</td>\n",
       "      <td>1.293</td>\n",
       "      <td>56.203</td>\n",
       "      <td>54.91</td>\n",
       "      <td>1</td>\n",
       "      <td>1.293</td>\n",
       "      <td>54.91</td>\n",
       "    </tr>\n",
       "    <tr>\n",
       "      <th>1</th>\n",
       "      <td>IAEX.AS</td>\n",
       "      <td>57.020</td>\n",
       "      <td>6.70</td>\n",
       "      <td>3.580</td>\n",
       "      <td>57.020</td>\n",
       "      <td>53.44</td>\n",
       "      <td>1</td>\n",
       "      <td>3.580</td>\n",
       "      <td>53.44</td>\n",
       "    </tr>\n",
       "  </tbody>\n",
       "</table>\n",
       "</div>"
      ],
      "text/plain": [
       "    ticker  open_price  growth_perc  gain_total  value_total  buy_price  \\\n",
       "0  VUSA.AS      56.203         2.35       1.293       56.203      54.91   \n",
       "1  IAEX.AS      57.020         6.70       3.580       57.020      53.44   \n",
       "\n",
       "   shares  gain_ps  avg_buy  \n",
       "0       1    1.293    54.91  \n",
       "1       1    3.580    53.44  "
      ]
     },
     "execution_count": 35,
     "metadata": {},
     "output_type": "execute_result"
    }
   ],
   "source": [
    "df_fin_clean = df_fin[['ticker',\n",
    "                 'open_price',\n",
    "                 'growth_perc',\n",
    "                 'gain_total',\n",
    "                 'value_total',\n",
    "                 'buy_price',\n",
    "                 'shares',\n",
    "                 'gain_ps',\n",
    "                 'avg_buy']]\n",
    "\n",
    "df_fin_clean"
   ]
  },
  {
   "cell_type": "code",
   "execution_count": 36,
   "metadata": {},
   "outputs": [],
   "source": [
    "#wegschrijven naar excel\n",
    "df_fin_clean.to_excel('my_financials.xlsx',sheet_name='Sheet1')"
   ]
  },
  {
   "cell_type": "code",
   "execution_count": 44,
   "metadata": {},
   "outputs": [
    {
     "name": "stdout",
     "output_type": "stream",
     "text": [
      "Your stocks have gained an (unweighted average) of 4.53%.\n",
      "You own 2 shares.\n",
      "Your shares are worth 4.87 more compared to the average purchase price.\n"
     ]
    }
   ],
   "source": [
    "if df_fin_clean['gain_total'].sum() < 0:\n",
    "    more_less = 'less'\n",
    "    gain_total = round(df_fin_clean['gain_total'].sum() * -1,2)\n",
    "    \n",
    "else:\n",
    "    more_less = 'more'\n",
    "    gain_total = round(df_fin_clean['gain_total'].sum(),2)\n",
    "    \n",
    "gain_msg = \"Your shares are worth \" + str(gain_total) + \" \" +  more_less + \" compared to the average purchase price.\"\n",
    "results_msg = \"Your stocks have gained an (unweighted average) of \" + str(round(df_fin_clean['growth_perc'].mean(),2)) + \"%.\"\n",
    "shares_msg = \"You own \" + str(df_fin_clean['shares'].sum()) + \" shares.\"\n",
    "\n",
    "print(results_msg)\n",
    "print(shares_msg)\n",
    "print(gain_msg)"
   ]
  },
  {
   "cell_type": "code",
   "execution_count": null,
   "metadata": {},
   "outputs": [],
   "source": []
  }
 ],
 "metadata": {
  "kernelspec": {
   "display_name": "Python 3",
   "language": "python",
   "name": "python3"
  },
  "language_info": {
   "codemirror_mode": {
    "name": "ipython",
    "version": 3
   },
   "file_extension": ".py",
   "mimetype": "text/x-python",
   "name": "python",
   "nbconvert_exporter": "python",
   "pygments_lexer": "ipython3",
   "version": "3.7.6"
  }
 },
 "nbformat": 4,
 "nbformat_minor": 4
}

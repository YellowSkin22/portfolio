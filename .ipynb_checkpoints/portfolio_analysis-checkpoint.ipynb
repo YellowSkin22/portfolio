{
 "cells": [
  {
   "cell_type": "code",
   "execution_count": 1,
   "metadata": {},
   "outputs": [],
   "source": [
    "#import relevant libraries"
   ]
  },
  {
   "cell_type": "code",
   "execution_count": 2,
   "metadata": {},
   "outputs": [],
   "source": [
    "import numpy as np\n",
    "import pandas as pd\n",
    "import yfinance as yf"
   ]
  },
  {
   "cell_type": "code",
   "execution_count": 3,
   "metadata": {},
   "outputs": [
    {
     "data": {
      "text/html": [
       "<div>\n",
       "<style scoped>\n",
       "    .dataframe tbody tr th:only-of-type {\n",
       "        vertical-align: middle;\n",
       "    }\n",
       "\n",
       "    .dataframe tbody tr th {\n",
       "        vertical-align: top;\n",
       "    }\n",
       "\n",
       "    .dataframe thead th {\n",
       "        text-align: right;\n",
       "    }\n",
       "</style>\n",
       "<table border=\"1\" class=\"dataframe\">\n",
       "  <thead>\n",
       "    <tr style=\"text-align: right;\">\n",
       "      <th></th>\n",
       "      <th>ticker</th>\n",
       "      <th>shares</th>\n",
       "      <th>buy_price</th>\n",
       "      <th>currency</th>\n",
       "      <th>buy_date</th>\n",
       "      <th>status</th>\n",
       "      <th>sector</th>\n",
       "      <th>region</th>\n",
       "    </tr>\n",
       "  </thead>\n",
       "  <tbody>\n",
       "    <tr>\n",
       "      <th>0</th>\n",
       "      <td>VUSA.AS</td>\n",
       "      <td>1</td>\n",
       "      <td>54.91</td>\n",
       "      <td>EUR</td>\n",
       "      <td>2020-10-25</td>\n",
       "      <td>completed</td>\n",
       "      <td>all</td>\n",
       "      <td>US</td>\n",
       "    </tr>\n",
       "    <tr>\n",
       "      <th>1</th>\n",
       "      <td>IAEX.AS</td>\n",
       "      <td>1</td>\n",
       "      <td>53.35</td>\n",
       "      <td>EUR</td>\n",
       "      <td>2020-11-01</td>\n",
       "      <td>placed</td>\n",
       "      <td>all</td>\n",
       "      <td>NL</td>\n",
       "    </tr>\n",
       "  </tbody>\n",
       "</table>\n",
       "</div>"
      ],
      "text/plain": [
       "    ticker  shares  buy_price currency   buy_date     status sector region\n",
       "0  VUSA.AS       1      54.91      EUR 2020-10-25  completed    all     US\n",
       "1  IAEX.AS       1      53.35      EUR 2020-11-01     placed    all     NL"
      ]
     },
     "execution_count": 3,
     "metadata": {},
     "output_type": "execute_result"
    }
   ],
   "source": [
    "#create df transactions\n",
    "df_trans = pd.read_excel('my_portfolio.xlsx')\n",
    "df_trans"
   ]
  },
  {
   "cell_type": "code",
   "execution_count": 4,
   "metadata": {},
   "outputs": [],
   "source": [
    "#create df financials\n",
    "df_fin = df_trans.drop(['shares', 'currency', 'buy_date', 'sector', 'region', 'status'], axis=1)"
   ]
  },
  {
   "cell_type": "code",
   "execution_count": 5,
   "metadata": {},
   "outputs": [],
   "source": [
    "#group by 'ticker' and define mean\n",
    "df_fin_avg = df_fin.groupby('ticker').mean('buy_price')\n",
    "\n",
    "#rename column\n",
    "df_fin_avg.rename(columns={'buy_price':'avg_buy'}, inplace=True)\n",
    "\n",
    "#add to dataset"
   ]
  },
  {
   "cell_type": "code",
   "execution_count": 6,
   "metadata": {},
   "outputs": [
    {
     "data": {
      "text/html": [
       "<div>\n",
       "<style scoped>\n",
       "    .dataframe tbody tr th:only-of-type {\n",
       "        vertical-align: middle;\n",
       "    }\n",
       "\n",
       "    .dataframe tbody tr th {\n",
       "        vertical-align: top;\n",
       "    }\n",
       "\n",
       "    .dataframe thead th {\n",
       "        text-align: right;\n",
       "    }\n",
       "</style>\n",
       "<table border=\"1\" class=\"dataframe\">\n",
       "  <thead>\n",
       "    <tr style=\"text-align: right;\">\n",
       "      <th></th>\n",
       "      <th>ticker</th>\n",
       "      <th>buy_price</th>\n",
       "      <th>avg_buy</th>\n",
       "    </tr>\n",
       "  </thead>\n",
       "  <tbody>\n",
       "    <tr>\n",
       "      <th>0</th>\n",
       "      <td>VUSA.AS</td>\n",
       "      <td>54.91</td>\n",
       "      <td>54.91</td>\n",
       "    </tr>\n",
       "    <tr>\n",
       "      <th>1</th>\n",
       "      <td>IAEX.AS</td>\n",
       "      <td>53.35</td>\n",
       "      <td>53.35</td>\n",
       "    </tr>\n",
       "  </tbody>\n",
       "</table>\n",
       "</div>"
      ],
      "text/plain": [
       "    ticker  buy_price  avg_buy\n",
       "0  VUSA.AS      54.91    54.91\n",
       "1  IAEX.AS      53.35    53.35"
      ]
     },
     "execution_count": 6,
     "metadata": {},
     "output_type": "execute_result"
    }
   ],
   "source": [
    "#merge df financial with df average buy\n",
    "df_fin = pd.merge(df_fin,df_fin_avg,how='inner',on='ticker')\n",
    "df_fin"
   ]
  },
  {
   "cell_type": "code",
   "execution_count": 7,
   "metadata": {},
   "outputs": [],
   "source": [
    "#collect tickers in a list\n",
    "my_tickers = df_fin['ticker'].tolist()"
   ]
  },
  {
   "cell_type": "code",
   "execution_count": 8,
   "metadata": {},
   "outputs": [],
   "source": [
    "#create variable tickers\n",
    "tickers = yf.Tickers(my_tickers)"
   ]
  },
  {
   "cell_type": "code",
   "execution_count": 9,
   "metadata": {},
   "outputs": [],
   "source": [
    "#create new dataframe that will be populated with opening prices\n",
    "df_fin_close = pd.DataFrame(index=[], columns=['ticker', 'previous_close'])"
   ]
  },
  {
   "cell_type": "code",
   "execution_count": 10,
   "metadata": {},
   "outputs": [
    {
     "data": {
      "text/html": [
       "<div>\n",
       "<style scoped>\n",
       "    .dataframe tbody tr th:only-of-type {\n",
       "        vertical-align: middle;\n",
       "    }\n",
       "\n",
       "    .dataframe tbody tr th {\n",
       "        vertical-align: top;\n",
       "    }\n",
       "\n",
       "    .dataframe thead th {\n",
       "        text-align: right;\n",
       "    }\n",
       "</style>\n",
       "<table border=\"1\" class=\"dataframe\">\n",
       "  <thead>\n",
       "    <tr style=\"text-align: right;\">\n",
       "      <th></th>\n",
       "      <th>ticker</th>\n",
       "      <th>previous_close</th>\n",
       "    </tr>\n",
       "  </thead>\n",
       "  <tbody>\n",
       "    <tr>\n",
       "      <th>0</th>\n",
       "      <td>VUSA.AS</td>\n",
       "      <td>53.678</td>\n",
       "    </tr>\n",
       "    <tr>\n",
       "      <th>1</th>\n",
       "      <td>IAEX.AS</td>\n",
       "      <td>53.430</td>\n",
       "    </tr>\n",
       "  </tbody>\n",
       "</table>\n",
       "</div>"
      ],
      "text/plain": [
       "    ticker  previous_close\n",
       "0  VUSA.AS          53.678\n",
       "1  IAEX.AS          53.430"
      ]
     },
     "execution_count": 10,
     "metadata": {},
     "output_type": "execute_result"
    }
   ],
   "source": [
    "#activate per ticker mode\n",
    "for ticker in my_tickers:\n",
    "    \n",
    "    #collect opening price\n",
    "    close_price = yf.Ticker(ticker).info.get('previousClose')\n",
    "    \n",
    "    #write to new dataframe df_op\n",
    "    df_fin_close = df_fin_close.append(pd.Series([ticker, close_price], index=df_fin_close.columns), ignore_index=True)\n",
    "\n",
    "df_fin_close"
   ]
  },
  {
   "cell_type": "code",
   "execution_count": 11,
   "metadata": {},
   "outputs": [
    {
     "data": {
      "text/html": [
       "<div>\n",
       "<style scoped>\n",
       "    .dataframe tbody tr th:only-of-type {\n",
       "        vertical-align: middle;\n",
       "    }\n",
       "\n",
       "    .dataframe tbody tr th {\n",
       "        vertical-align: top;\n",
       "    }\n",
       "\n",
       "    .dataframe thead th {\n",
       "        text-align: right;\n",
       "    }\n",
       "</style>\n",
       "<table border=\"1\" class=\"dataframe\">\n",
       "  <thead>\n",
       "    <tr style=\"text-align: right;\">\n",
       "      <th></th>\n",
       "      <th>ticker</th>\n",
       "      <th>buy_price</th>\n",
       "      <th>avg_buy</th>\n",
       "      <th>previous_close</th>\n",
       "    </tr>\n",
       "  </thead>\n",
       "  <tbody>\n",
       "    <tr>\n",
       "      <th>0</th>\n",
       "      <td>VUSA.AS</td>\n",
       "      <td>54.91</td>\n",
       "      <td>54.91</td>\n",
       "      <td>53.678</td>\n",
       "    </tr>\n",
       "    <tr>\n",
       "      <th>1</th>\n",
       "      <td>IAEX.AS</td>\n",
       "      <td>53.35</td>\n",
       "      <td>53.35</td>\n",
       "      <td>53.430</td>\n",
       "    </tr>\n",
       "  </tbody>\n",
       "</table>\n",
       "</div>"
      ],
      "text/plain": [
       "    ticker  buy_price  avg_buy  previous_close\n",
       "0  VUSA.AS      54.91    54.91          53.678\n",
       "1  IAEX.AS      53.35    53.35          53.430"
      ]
     },
     "execution_count": 11,
     "metadata": {},
     "output_type": "execute_result"
    }
   ],
   "source": [
    "#join the two indexes / data frames\n",
    "df_fin = pd.merge(df_fin,df_fin_close,how='inner',on='ticker')\n",
    "df_fin"
   ]
  },
  {
   "cell_type": "code",
   "execution_count": 12,
   "metadata": {},
   "outputs": [
    {
     "data": {
      "text/html": [
       "<div>\n",
       "<style scoped>\n",
       "    .dataframe tbody tr th:only-of-type {\n",
       "        vertical-align: middle;\n",
       "    }\n",
       "\n",
       "    .dataframe tbody tr th {\n",
       "        vertical-align: top;\n",
       "    }\n",
       "\n",
       "    .dataframe thead th {\n",
       "        text-align: right;\n",
       "    }\n",
       "</style>\n",
       "<table border=\"1\" class=\"dataframe\">\n",
       "  <thead>\n",
       "    <tr style=\"text-align: right;\">\n",
       "      <th></th>\n",
       "      <th>ticker</th>\n",
       "      <th>buy_price</th>\n",
       "      <th>avg_buy</th>\n",
       "      <th>previous_close</th>\n",
       "      <th>shares</th>\n",
       "    </tr>\n",
       "  </thead>\n",
       "  <tbody>\n",
       "    <tr>\n",
       "      <th>0</th>\n",
       "      <td>VUSA.AS</td>\n",
       "      <td>54.91</td>\n",
       "      <td>54.91</td>\n",
       "      <td>53.678</td>\n",
       "      <td>1</td>\n",
       "    </tr>\n",
       "    <tr>\n",
       "      <th>1</th>\n",
       "      <td>IAEX.AS</td>\n",
       "      <td>53.35</td>\n",
       "      <td>53.35</td>\n",
       "      <td>53.430</td>\n",
       "      <td>1</td>\n",
       "    </tr>\n",
       "  </tbody>\n",
       "</table>\n",
       "</div>"
      ],
      "text/plain": [
       "    ticker  buy_price  avg_buy  previous_close  shares\n",
       "0  VUSA.AS      54.91    54.91          53.678       1\n",
       "1  IAEX.AS      53.35    53.35          53.430       1"
      ]
     },
     "execution_count": 12,
     "metadata": {},
     "output_type": "execute_result"
    }
   ],
   "source": [
    "#berekenen van huidige waarde\n",
    "df_fin_shares = df_trans[['ticker', 'shares']]\n",
    "\n",
    "df_fin_shares = df_fin_shares.groupby('ticker').sum()\n",
    "\n",
    "#toevoegen aan df fin\n",
    "df_fin = pd.merge(df_fin, df_fin_shares, how='inner', on='ticker')\n",
    "df_fin"
   ]
  },
  {
   "cell_type": "code",
   "execution_count": 13,
   "metadata": {},
   "outputs": [
    {
     "data": {
      "text/html": [
       "<div>\n",
       "<style scoped>\n",
       "    .dataframe tbody tr th:only-of-type {\n",
       "        vertical-align: middle;\n",
       "    }\n",
       "\n",
       "    .dataframe tbody tr th {\n",
       "        vertical-align: top;\n",
       "    }\n",
       "\n",
       "    .dataframe thead th {\n",
       "        text-align: right;\n",
       "    }\n",
       "</style>\n",
       "<table border=\"1\" class=\"dataframe\">\n",
       "  <thead>\n",
       "    <tr style=\"text-align: right;\">\n",
       "      <th></th>\n",
       "      <th>ticker</th>\n",
       "      <th>buy_price</th>\n",
       "      <th>avg_buy</th>\n",
       "      <th>previous_close</th>\n",
       "      <th>shares</th>\n",
       "      <th>gain_ps</th>\n",
       "      <th>gain_total</th>\n",
       "      <th>value_total</th>\n",
       "    </tr>\n",
       "  </thead>\n",
       "  <tbody>\n",
       "    <tr>\n",
       "      <th>0</th>\n",
       "      <td>VUSA.AS</td>\n",
       "      <td>54.91</td>\n",
       "      <td>54.91</td>\n",
       "      <td>53.678</td>\n",
       "      <td>1</td>\n",
       "      <td>-1.232</td>\n",
       "      <td>-1.232</td>\n",
       "      <td>53.678</td>\n",
       "    </tr>\n",
       "    <tr>\n",
       "      <th>1</th>\n",
       "      <td>IAEX.AS</td>\n",
       "      <td>53.35</td>\n",
       "      <td>53.35</td>\n",
       "      <td>53.430</td>\n",
       "      <td>1</td>\n",
       "      <td>0.080</td>\n",
       "      <td>0.080</td>\n",
       "      <td>53.430</td>\n",
       "    </tr>\n",
       "  </tbody>\n",
       "</table>\n",
       "</div>"
      ],
      "text/plain": [
       "    ticker  buy_price  avg_buy  previous_close  shares  gain_ps  gain_total  \\\n",
       "0  VUSA.AS      54.91    54.91          53.678       1   -1.232      -1.232   \n",
       "1  IAEX.AS      53.35    53.35          53.430       1    0.080       0.080   \n",
       "\n",
       "   value_total  \n",
       "0       53.678  \n",
       "1       53.430  "
      ]
     },
     "execution_count": 13,
     "metadata": {},
     "output_type": "execute_result"
    }
   ],
   "source": [
    "#add col gain per share and gain total and value_Total\n",
    "df_fin['gain_ps'] = df_fin['previous_close'] - df_fin['avg_buy']\n",
    "df_fin['gain_total'] = df_fin['gain_ps'] * df_fin['shares']\n",
    "df_fin['value_total'] = df_fin['shares'] * df_fin['previous_close']\n",
    "df_fin"
   ]
  },
  {
   "cell_type": "code",
   "execution_count": 14,
   "metadata": {},
   "outputs": [
    {
     "data": {
      "text/html": [
       "<div>\n",
       "<style scoped>\n",
       "    .dataframe tbody tr th:only-of-type {\n",
       "        vertical-align: middle;\n",
       "    }\n",
       "\n",
       "    .dataframe tbody tr th {\n",
       "        vertical-align: top;\n",
       "    }\n",
       "\n",
       "    .dataframe thead th {\n",
       "        text-align: right;\n",
       "    }\n",
       "</style>\n",
       "<table border=\"1\" class=\"dataframe\">\n",
       "  <thead>\n",
       "    <tr style=\"text-align: right;\">\n",
       "      <th></th>\n",
       "      <th>ticker</th>\n",
       "      <th>buy_price</th>\n",
       "      <th>avg_buy</th>\n",
       "      <th>previous_close</th>\n",
       "      <th>shares</th>\n",
       "      <th>gain_ps</th>\n",
       "      <th>gain_total</th>\n",
       "      <th>value_total</th>\n",
       "      <th>growth_perc</th>\n",
       "    </tr>\n",
       "  </thead>\n",
       "  <tbody>\n",
       "    <tr>\n",
       "      <th>0</th>\n",
       "      <td>VUSA.AS</td>\n",
       "      <td>54.91</td>\n",
       "      <td>54.91</td>\n",
       "      <td>53.678</td>\n",
       "      <td>1</td>\n",
       "      <td>-1.232</td>\n",
       "      <td>-1.232</td>\n",
       "      <td>53.678</td>\n",
       "      <td>-2.24%</td>\n",
       "    </tr>\n",
       "    <tr>\n",
       "      <th>1</th>\n",
       "      <td>IAEX.AS</td>\n",
       "      <td>53.35</td>\n",
       "      <td>53.35</td>\n",
       "      <td>53.430</td>\n",
       "      <td>1</td>\n",
       "      <td>0.080</td>\n",
       "      <td>0.080</td>\n",
       "      <td>53.430</td>\n",
       "      <td>0.15%</td>\n",
       "    </tr>\n",
       "  </tbody>\n",
       "</table>\n",
       "</div>"
      ],
      "text/plain": [
       "    ticker  buy_price  avg_buy  previous_close  shares  gain_ps  gain_total  \\\n",
       "0  VUSA.AS      54.91    54.91          53.678       1   -1.232      -1.232   \n",
       "1  IAEX.AS      53.35    53.35          53.430       1    0.080       0.080   \n",
       "\n",
       "   value_total growth_perc  \n",
       "0       53.678      -2.24%  \n",
       "1       53.430       0.15%  "
      ]
     },
     "execution_count": 14,
     "metadata": {},
     "output_type": "execute_result"
    }
   ],
   "source": [
    "#calculate growth percentage\n",
    "df_fin['growth_perc'] = ((df_fin['previous_close'] - df_fin['avg_buy']) / df_fin['avg_buy']) * 100\n",
    "df_fin['growth_perc'] = round(df_fin['growth_perc'], 2)\n",
    "df_fin['growth_perc'] = df_fin['growth_perc'].astype(str)\n",
    "df_fin['growth_perc'] = df_fin['growth_perc'] + '%'\n",
    "df_fin"
   ]
  },
  {
   "cell_type": "code",
   "execution_count": 15,
   "metadata": {},
   "outputs": [
    {
     "data": {
      "text/plain": [
       "['ticker',\n",
       " 'buy_price',\n",
       " 'avg_buy',\n",
       " 'previous_close',\n",
       " 'shares',\n",
       " 'gain_ps',\n",
       " 'gain_total',\n",
       " 'value_total',\n",
       " 'growth_perc']"
      ]
     },
     "execution_count": 15,
     "metadata": {},
     "output_type": "execute_result"
    }
   ],
   "source": [
    "#aanpassen kolom structuur\n",
    "cols = list(df_fin.columns.values)\n",
    "cols"
   ]
  },
  {
   "cell_type": "code",
   "execution_count": 18,
   "metadata": {},
   "outputs": [
    {
     "data": {
      "text/html": [
       "<div>\n",
       "<style scoped>\n",
       "    .dataframe tbody tr th:only-of-type {\n",
       "        vertical-align: middle;\n",
       "    }\n",
       "\n",
       "    .dataframe tbody tr th {\n",
       "        vertical-align: top;\n",
       "    }\n",
       "\n",
       "    .dataframe thead th {\n",
       "        text-align: right;\n",
       "    }\n",
       "</style>\n",
       "<table border=\"1\" class=\"dataframe\">\n",
       "  <thead>\n",
       "    <tr style=\"text-align: right;\">\n",
       "      <th></th>\n",
       "      <th>ticker</th>\n",
       "      <th>previous_close</th>\n",
       "      <th>growth_perc</th>\n",
       "      <th>gain_total</th>\n",
       "      <th>value_total</th>\n",
       "      <th>buy_price</th>\n",
       "      <th>shares</th>\n",
       "      <th>gain_ps</th>\n",
       "      <th>avg_buy</th>\n",
       "    </tr>\n",
       "  </thead>\n",
       "  <tbody>\n",
       "    <tr>\n",
       "      <th>0</th>\n",
       "      <td>VUSA.AS</td>\n",
       "      <td>53.678</td>\n",
       "      <td>-2.24%</td>\n",
       "      <td>-1.232</td>\n",
       "      <td>53.678</td>\n",
       "      <td>54.91</td>\n",
       "      <td>1</td>\n",
       "      <td>-1.232</td>\n",
       "      <td>54.91</td>\n",
       "    </tr>\n",
       "    <tr>\n",
       "      <th>1</th>\n",
       "      <td>IAEX.AS</td>\n",
       "      <td>53.430</td>\n",
       "      <td>0.15%</td>\n",
       "      <td>0.080</td>\n",
       "      <td>53.430</td>\n",
       "      <td>53.35</td>\n",
       "      <td>1</td>\n",
       "      <td>0.080</td>\n",
       "      <td>53.35</td>\n",
       "    </tr>\n",
       "  </tbody>\n",
       "</table>\n",
       "</div>"
      ],
      "text/plain": [
       "    ticker  previous_close growth_perc  gain_total  value_total  buy_price  \\\n",
       "0  VUSA.AS          53.678      -2.24%      -1.232       53.678      54.91   \n",
       "1  IAEX.AS          53.430       0.15%       0.080       53.430      53.35   \n",
       "\n",
       "   shares  gain_ps  avg_buy  \n",
       "0       1   -1.232    54.91  \n",
       "1       1    0.080    53.35  "
      ]
     },
     "execution_count": 18,
     "metadata": {},
     "output_type": "execute_result"
    }
   ],
   "source": [
    "df_fin_clean = df_fin[['ticker',\n",
    "                 'previous_close',\n",
    "                 'growth_perc',\n",
    "                 'gain_total',\n",
    "                 'value_total',\n",
    "                 'buy_price',\n",
    "                 'shares',\n",
    "                 'gain_ps',\n",
    "                 'avg_buy']]\n",
    "\n",
    "df_fin_clean"
   ]
  },
  {
   "cell_type": "code",
   "execution_count": null,
   "metadata": {},
   "outputs": [],
   "source": []
  },
  {
   "cell_type": "code",
   "execution_count": null,
   "metadata": {},
   "outputs": [],
   "source": []
  }
 ],
 "metadata": {
  "kernelspec": {
   "display_name": "Python 3",
   "language": "python",
   "name": "python3"
  },
  "language_info": {
   "codemirror_mode": {
    "name": "ipython",
    "version": 3
   },
   "file_extension": ".py",
   "mimetype": "text/x-python",
   "name": "python",
   "nbconvert_exporter": "python",
   "pygments_lexer": "ipython3",
   "version": "3.7.6"
  }
 },
 "nbformat": 4,
 "nbformat_minor": 4
}

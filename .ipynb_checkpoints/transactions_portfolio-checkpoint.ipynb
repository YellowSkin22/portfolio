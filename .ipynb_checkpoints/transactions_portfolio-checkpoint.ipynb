{
 "cells": [
  {
   "cell_type": "code",
   "execution_count": 5,
   "metadata": {},
   "outputs": [],
   "source": [
    "#import libraries\n",
    "import numpy as np\n",
    "import pandas as pd\n",
    "import time\n",
    "import datetime"
   ]
  },
  {
   "cell_type": "code",
   "execution_count": 6,
   "metadata": {},
   "outputs": [
    {
     "name": "stdout",
     "output_type": "stream",
     "text": [
      "Hello Bruce, have you performed new transactions? y/n y\n"
     ]
    }
   ],
   "source": [
    "welcome_reply = input('Hello Bruce, have you performed new transactions? y/n ').lower()"
   ]
  },
  {
   "cell_type": "code",
   "execution_count": 7,
   "metadata": {},
   "outputs": [
    {
     "name": "stdout",
     "output_type": "stream",
     "text": [
      "Ok, what is the ticker? test\n"
     ]
    }
   ],
   "source": [
    "if welcome_reply == 'y':\n",
    "    ticker = input('Ok, what is the ticker? ').upper()"
   ]
  },
  {
   "cell_type": "code",
   "execution_count": 8,
   "metadata": {},
   "outputs": [
    {
     "name": "stdout",
     "output_type": "stream",
     "text": [
      "What was the purchase date? (YYYY-MM-DD) 2020-02-02\n"
     ]
    }
   ],
   "source": [
    "buy_date = input('What was the purchase date? (YYYY-MM-DD) ')\n",
    "year, month, day = map(int, buy_date.split('-'))\n",
    "buy_date = datetime.date(year, month, day)"
   ]
  },
  {
   "cell_type": "code",
   "execution_count": 9,
   "metadata": {},
   "outputs": [
    {
     "name": "stdout",
     "output_type": "stream",
     "text": [
      "What is the purchase price? 1\n"
     ]
    }
   ],
   "source": [
    "buy_price = input('What is the purchase price? ')\n",
    "buy_price = float(buy_price)"
   ]
  },
  {
   "cell_type": "code",
   "execution_count": 10,
   "metadata": {},
   "outputs": [
    {
     "name": "stdout",
     "output_type": "stream",
     "text": [
      "In which currency did you buy? eur\n"
     ]
    }
   ],
   "source": [
    "currency = input('In which currency did you buy? ').upper()"
   ]
  },
  {
   "cell_type": "code",
   "execution_count": 11,
   "metadata": {},
   "outputs": [
    {
     "name": "stdout",
     "output_type": "stream",
     "text": [
      "How many shares did you buy? 1\n"
     ]
    }
   ],
   "source": [
    "#vraag naar hoeveelheid shares\n",
    "shares = int(input('How many shares did you buy? '))"
   ]
  },
  {
   "cell_type": "code",
   "execution_count": 12,
   "metadata": {},
   "outputs": [],
   "source": [
    "#set status as completed\n",
    "status = 'completed'"
   ]
  },
  {
   "cell_type": "code",
   "execution_count": 13,
   "metadata": {},
   "outputs": [
    {
     "name": "stdout",
     "output_type": "stream",
     "text": [
      "What is the corresponding sector? test\n"
     ]
    }
   ],
   "source": [
    "#define sector\n",
    "sector = input('What is the corresponding sector? ').lower()"
   ]
  },
  {
   "cell_type": "code",
   "execution_count": 14,
   "metadata": {},
   "outputs": [
    {
     "name": "stdout",
     "output_type": "stream",
     "text": [
      "What is the region? test\n"
     ]
    }
   ],
   "source": [
    "#define region\n",
    "region = input('What is the region? ').upper()"
   ]
  },
  {
   "cell_type": "code",
   "execution_count": 15,
   "metadata": {},
   "outputs": [],
   "source": [
    "df_new = pd.DataFrame(columns='ticker shares buy_price currency buy_date status sector region'.split())"
   ]
  },
  {
   "cell_type": "code",
   "execution_count": 16,
   "metadata": {},
   "outputs": [
    {
     "data": {
      "text/html": [
       "<div>\n",
       "<style scoped>\n",
       "    .dataframe tbody tr th:only-of-type {\n",
       "        vertical-align: middle;\n",
       "    }\n",
       "\n",
       "    .dataframe tbody tr th {\n",
       "        vertical-align: top;\n",
       "    }\n",
       "\n",
       "    .dataframe thead th {\n",
       "        text-align: right;\n",
       "    }\n",
       "</style>\n",
       "<table border=\"1\" class=\"dataframe\">\n",
       "  <thead>\n",
       "    <tr style=\"text-align: right;\">\n",
       "      <th></th>\n",
       "      <th>ticker</th>\n",
       "      <th>shares</th>\n",
       "      <th>buy_price</th>\n",
       "      <th>currency</th>\n",
       "      <th>buy_date</th>\n",
       "      <th>status</th>\n",
       "      <th>sector</th>\n",
       "      <th>region</th>\n",
       "    </tr>\n",
       "  </thead>\n",
       "  <tbody>\n",
       "    <tr>\n",
       "      <th>0</th>\n",
       "      <td>TEST</td>\n",
       "      <td>1</td>\n",
       "      <td>1.0</td>\n",
       "      <td>EUR</td>\n",
       "      <td>2020-02-02</td>\n",
       "      <td>completed</td>\n",
       "      <td>test</td>\n",
       "      <td>TEST</td>\n",
       "    </tr>\n",
       "  </tbody>\n",
       "</table>\n",
       "</div>"
      ],
      "text/plain": [
       "  ticker shares  buy_price currency    buy_date     status sector region\n",
       "0   TEST      1        1.0      EUR  2020-02-02  completed   test   TEST"
      ]
     },
     "execution_count": 16,
     "metadata": {},
     "output_type": "execute_result"
    }
   ],
   "source": [
    "#add new row to index\n",
    "df_new.loc[-1] = [ticker, shares, buy_price, currency, buy_date, status, sector, region]\n",
    "\n",
    "#shift index\n",
    "df_new.index = df_new.index + 1  # shifting index"
   ]
  },
  {
   "cell_type": "code",
   "execution_count": 34,
   "metadata": {},
   "outputs": [],
   "source": [
    "df_trans = pd.read_excel('my_transactions.xlsx',sheet_name='Sheet1', index_col=[0])"
   ]
  },
  {
   "cell_type": "code",
   "execution_count": 35,
   "metadata": {},
   "outputs": [
    {
     "data": {
      "text/html": [
       "<div>\n",
       "<style scoped>\n",
       "    .dataframe tbody tr th:only-of-type {\n",
       "        vertical-align: middle;\n",
       "    }\n",
       "\n",
       "    .dataframe tbody tr th {\n",
       "        vertical-align: top;\n",
       "    }\n",
       "\n",
       "    .dataframe thead th {\n",
       "        text-align: right;\n",
       "    }\n",
       "</style>\n",
       "<table border=\"1\" class=\"dataframe\">\n",
       "  <thead>\n",
       "    <tr style=\"text-align: right;\">\n",
       "      <th></th>\n",
       "      <th>ticker</th>\n",
       "      <th>shares</th>\n",
       "      <th>buy_price</th>\n",
       "      <th>currency</th>\n",
       "      <th>buy_date</th>\n",
       "      <th>status</th>\n",
       "      <th>sector</th>\n",
       "      <th>region</th>\n",
       "    </tr>\n",
       "  </thead>\n",
       "  <tbody>\n",
       "    <tr>\n",
       "      <th>0</th>\n",
       "      <td>VUSA.AS</td>\n",
       "      <td>1</td>\n",
       "      <td>54.91</td>\n",
       "      <td>EUR</td>\n",
       "      <td>2020-25-10</td>\n",
       "      <td>completed</td>\n",
       "      <td>all</td>\n",
       "      <td>US</td>\n",
       "    </tr>\n",
       "    <tr>\n",
       "      <th>2</th>\n",
       "      <td>IAES.AS</td>\n",
       "      <td>1</td>\n",
       "      <td>53.44</td>\n",
       "      <td>EUR</td>\n",
       "      <td>2020-11-02 00:00:00</td>\n",
       "      <td>completed</td>\n",
       "      <td>all</td>\n",
       "      <td>NL</td>\n",
       "    </tr>\n",
       "  </tbody>\n",
       "</table>\n",
       "</div>"
      ],
      "text/plain": [
       "    ticker  shares  buy_price currency             buy_date     status sector  \\\n",
       "0  VUSA.AS       1      54.91      EUR           2020-25-10  completed    all   \n",
       "2  IAES.AS       1      53.44      EUR  2020-11-02 00:00:00  completed    all   \n",
       "\n",
       "  region  \n",
       "0     US  \n",
       "2     NL  "
      ]
     },
     "execution_count": 35,
     "metadata": {},
     "output_type": "execute_result"
    }
   ],
   "source": [
    "df_trans"
   ]
  },
  {
   "cell_type": "code",
   "execution_count": 36,
   "metadata": {},
   "outputs": [
    {
     "data": {
      "text/html": [
       "<div>\n",
       "<style scoped>\n",
       "    .dataframe tbody tr th:only-of-type {\n",
       "        vertical-align: middle;\n",
       "    }\n",
       "\n",
       "    .dataframe tbody tr th {\n",
       "        vertical-align: top;\n",
       "    }\n",
       "\n",
       "    .dataframe thead th {\n",
       "        text-align: right;\n",
       "    }\n",
       "</style>\n",
       "<table border=\"1\" class=\"dataframe\">\n",
       "  <thead>\n",
       "    <tr style=\"text-align: right;\">\n",
       "      <th></th>\n",
       "      <th>ticker</th>\n",
       "      <th>shares</th>\n",
       "      <th>buy_price</th>\n",
       "      <th>currency</th>\n",
       "      <th>buy_date</th>\n",
       "      <th>status</th>\n",
       "      <th>sector</th>\n",
       "      <th>region</th>\n",
       "    </tr>\n",
       "  </thead>\n",
       "  <tbody>\n",
       "    <tr>\n",
       "      <th>0</th>\n",
       "      <td>TEST</td>\n",
       "      <td>1</td>\n",
       "      <td>1.0</td>\n",
       "      <td>EUR</td>\n",
       "      <td>2020-02-02</td>\n",
       "      <td>completed</td>\n",
       "      <td>test</td>\n",
       "      <td>TEST</td>\n",
       "    </tr>\n",
       "  </tbody>\n",
       "</table>\n",
       "</div>"
      ],
      "text/plain": [
       "  ticker shares  buy_price currency    buy_date     status sector region\n",
       "0   TEST      1        1.0      EUR  2020-02-02  completed   test   TEST"
      ]
     },
     "execution_count": 36,
     "metadata": {},
     "output_type": "execute_result"
    }
   ],
   "source": [
    "df_new"
   ]
  },
  {
   "cell_type": "code",
   "execution_count": 43,
   "metadata": {},
   "outputs": [
    {
     "data": {
      "text/html": [
       "<div>\n",
       "<style scoped>\n",
       "    .dataframe tbody tr th:only-of-type {\n",
       "        vertical-align: middle;\n",
       "    }\n",
       "\n",
       "    .dataframe tbody tr th {\n",
       "        vertical-align: top;\n",
       "    }\n",
       "\n",
       "    .dataframe thead th {\n",
       "        text-align: right;\n",
       "    }\n",
       "</style>\n",
       "<table border=\"1\" class=\"dataframe\">\n",
       "  <thead>\n",
       "    <tr style=\"text-align: right;\">\n",
       "      <th></th>\n",
       "      <th>ticker</th>\n",
       "      <th>shares</th>\n",
       "      <th>buy_price</th>\n",
       "      <th>currency</th>\n",
       "      <th>buy_date</th>\n",
       "      <th>status</th>\n",
       "      <th>sector</th>\n",
       "      <th>region</th>\n",
       "    </tr>\n",
       "  </thead>\n",
       "  <tbody>\n",
       "    <tr>\n",
       "      <th>0</th>\n",
       "      <td>VUSA.AS</td>\n",
       "      <td>1</td>\n",
       "      <td>54.91</td>\n",
       "      <td>EUR</td>\n",
       "      <td>2020-25-10</td>\n",
       "      <td>completed</td>\n",
       "      <td>all</td>\n",
       "      <td>US</td>\n",
       "    </tr>\n",
       "    <tr>\n",
       "      <th>2</th>\n",
       "      <td>IAES.AS</td>\n",
       "      <td>1</td>\n",
       "      <td>53.44</td>\n",
       "      <td>EUR</td>\n",
       "      <td>2020-11-02 00:00:00</td>\n",
       "      <td>completed</td>\n",
       "      <td>all</td>\n",
       "      <td>NL</td>\n",
       "    </tr>\n",
       "    <tr>\n",
       "      <th>0</th>\n",
       "      <td>TEST</td>\n",
       "      <td>1</td>\n",
       "      <td>1.00</td>\n",
       "      <td>EUR</td>\n",
       "      <td>2020-02-02</td>\n",
       "      <td>completed</td>\n",
       "      <td>test</td>\n",
       "      <td>TEST</td>\n",
       "    </tr>\n",
       "  </tbody>\n",
       "</table>\n",
       "</div>"
      ],
      "text/plain": [
       "    ticker shares  buy_price currency             buy_date     status sector  \\\n",
       "0  VUSA.AS      1      54.91      EUR           2020-25-10  completed    all   \n",
       "2  IAES.AS      1      53.44      EUR  2020-11-02 00:00:00  completed    all   \n",
       "0     TEST      1       1.00      EUR           2020-02-02  completed   test   \n",
       "\n",
       "  region  \n",
       "0     US  \n",
       "2     NL  \n",
       "0   TEST  "
      ]
     },
     "execution_count": 43,
     "metadata": {},
     "output_type": "execute_result"
    }
   ],
   "source": [
    "df_updated = pd.concat([df_trans,df_new])\n",
    "df_updated"
   ]
  },
  {
   "cell_type": "code",
   "execution_count": 44,
   "metadata": {},
   "outputs": [
    {
     "data": {
      "text/html": [
       "<div>\n",
       "<style scoped>\n",
       "    .dataframe tbody tr th:only-of-type {\n",
       "        vertical-align: middle;\n",
       "    }\n",
       "\n",
       "    .dataframe tbody tr th {\n",
       "        vertical-align: top;\n",
       "    }\n",
       "\n",
       "    .dataframe thead th {\n",
       "        text-align: right;\n",
       "    }\n",
       "</style>\n",
       "<table border=\"1\" class=\"dataframe\">\n",
       "  <thead>\n",
       "    <tr style=\"text-align: right;\">\n",
       "      <th></th>\n",
       "      <th>ticker</th>\n",
       "      <th>shares</th>\n",
       "      <th>buy_price</th>\n",
       "      <th>currency</th>\n",
       "      <th>buy_date</th>\n",
       "      <th>status</th>\n",
       "      <th>sector</th>\n",
       "      <th>region</th>\n",
       "    </tr>\n",
       "  </thead>\n",
       "  <tbody>\n",
       "    <tr>\n",
       "      <th>0</th>\n",
       "      <td>VUSA.AS</td>\n",
       "      <td>1</td>\n",
       "      <td>54.91</td>\n",
       "      <td>EUR</td>\n",
       "      <td>2020-25-10</td>\n",
       "      <td>completed</td>\n",
       "      <td>all</td>\n",
       "      <td>US</td>\n",
       "    </tr>\n",
       "    <tr>\n",
       "      <th>1</th>\n",
       "      <td>IAES.AS</td>\n",
       "      <td>1</td>\n",
       "      <td>53.44</td>\n",
       "      <td>EUR</td>\n",
       "      <td>2020-11-02 00:00:00</td>\n",
       "      <td>completed</td>\n",
       "      <td>all</td>\n",
       "      <td>NL</td>\n",
       "    </tr>\n",
       "  </tbody>\n",
       "</table>\n",
       "</div>"
      ],
      "text/plain": [
       "    ticker shares  buy_price currency             buy_date     status sector  \\\n",
       "0  VUSA.AS      1      54.91      EUR           2020-25-10  completed    all   \n",
       "1  IAES.AS      1      53.44      EUR  2020-11-02 00:00:00  completed    all   \n",
       "\n",
       "  region  \n",
       "0     US  \n",
       "1     NL  "
      ]
     },
     "execution_count": 44,
     "metadata": {},
     "output_type": "execute_result"
    }
   ],
   "source": [
    "#incase of duplicates, remove them. \n",
    "df_updated.drop_duplicates(inplace=True)\n",
    "\n",
    "#if ticker contains 'TEST' then drop row\n",
    "df_updated = df_updated[~df_updated.ticker.str.contains(\"TEST\")]\n",
    "\n",
    "#reset indexes\n",
    "df_updated =df_updated.reset_index(drop=True)\n",
    "df_updated"
   ]
  },
  {
   "cell_type": "code",
   "execution_count": 45,
   "metadata": {},
   "outputs": [],
   "source": [
    "df_updated.to_excel('my_transactions.xlsx',sheet_name='Sheet1')"
   ]
  },
  {
   "cell_type": "code",
   "execution_count": 46,
   "metadata": {},
   "outputs": [
    {
     "name": "stdout",
     "output_type": "stream",
     "text": [
      "Your transactions have been updated.\n"
     ]
    }
   ],
   "source": [
    "print('Your transactions have been updated.')"
   ]
  },
  {
   "cell_type": "code",
   "execution_count": null,
   "metadata": {},
   "outputs": [],
   "source": []
  }
 ],
 "metadata": {
  "kernelspec": {
   "display_name": "Python 3",
   "language": "python",
   "name": "python3"
  },
  "language_info": {
   "codemirror_mode": {
    "name": "ipython",
    "version": 3
   },
   "file_extension": ".py",
   "mimetype": "text/x-python",
   "name": "python",
   "nbconvert_exporter": "python",
   "pygments_lexer": "ipython3",
   "version": "3.7.6"
  }
 },
 "nbformat": 4,
 "nbformat_minor": 4
}

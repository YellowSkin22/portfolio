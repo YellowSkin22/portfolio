{
 "cells": [
  {
   "cell_type": "code",
   "execution_count": 1,
   "metadata": {},
   "outputs": [],
   "source": [
    "#libraries\n",
    "import pandas as pd\n",
    "import numpy as np\n",
    "import yfinance as yf"
   ]
  },
  {
   "cell_type": "code",
   "execution_count": 2,
   "metadata": {},
   "outputs": [],
   "source": [
    "#import transactions\n",
    "df_main = pd.read_csv('../assets/Transactions.csv')"
   ]
  },
  {
   "cell_type": "code",
   "execution_count": 4,
   "metadata": {},
   "outputs": [],
   "source": [
    "#clean df - drop all unnamed fields\n",
    "df_main = df_main.drop(df_mainain.filter(regex='Unnamed').columns, axis=1)\n",
    "\n",
    "#clean df - drop unused field 'Order Id', 'Wisselkoers'\n",
    "df_main = df_main.drop(['Order Id', 'Wisselkoers', 'Lokale waarde', 'Waarde', 'Totaal'], axis=1)"
   ]
  },
  {
   "cell_type": "code",
   "execution_count": 5,
   "metadata": {},
   "outputs": [],
   "source": [
    "#add ticker with function\n",
    "\n",
    "#define ticker funtion\n",
    "def getTicker(product):\n",
    "    if product == \"ISHARES AEX\":\n",
    "        return \"IAEX.AS\"\n",
    "    elif product == \"VANGUARD S&P500\":\n",
    "        return \"VUSA.AS\"\n",
    "\n",
    "df_main['ticker'] = df_main['Product'].apply(getTicker)"
   ]
  },
  {
   "cell_type": "code",
   "execution_count": 6,
   "metadata": {},
   "outputs": [],
   "source": [
    "#rename fields\n",
    "df_main.rename(columns={'Datum':'buy_date',\n",
    "                          'Koers':'buy_value', \n",
    "                          'Aantal':'qty' ,\n",
    "                          'Tijd':'buy_time',\n",
    "                          'Kosten':'costs'},\n",
    "                 inplace=True)"
   ]
  },
  {
   "cell_type": "markdown",
   "metadata": {},
   "source": [
    "# Add current price field"
   ]
  },
  {
   "cell_type": "code",
   "execution_count": 12,
   "metadata": {},
   "outputs": [
    {
     "data": {
      "text/html": [
       "<div>\n",
       "<style scoped>\n",
       "    .dataframe tbody tr th:only-of-type {\n",
       "        vertical-align: middle;\n",
       "    }\n",
       "\n",
       "    .dataframe tbody tr th {\n",
       "        vertical-align: top;\n",
       "    }\n",
       "\n",
       "    .dataframe thead th {\n",
       "        text-align: right;\n",
       "    }\n",
       "</style>\n",
       "<table border=\"1\" class=\"dataframe\">\n",
       "  <thead>\n",
       "    <tr style=\"text-align: right;\">\n",
       "      <th></th>\n",
       "      <th>buy_date</th>\n",
       "      <th>buy_time</th>\n",
       "      <th>Product</th>\n",
       "      <th>ISIN</th>\n",
       "      <th>Exchange</th>\n",
       "      <th>qty</th>\n",
       "      <th>buy_value</th>\n",
       "      <th>costs</th>\n",
       "      <th>ticker</th>\n",
       "    </tr>\n",
       "  </thead>\n",
       "  <tbody>\n",
       "    <tr>\n",
       "      <th>0</th>\n",
       "      <td>02-11-2020</td>\n",
       "      <td>09:05</td>\n",
       "      <td>ISHARES AEX</td>\n",
       "      <td>IE00B0M62Y33</td>\n",
       "      <td>EAM</td>\n",
       "      <td>1</td>\n",
       "      <td>53.44</td>\n",
       "      <td>NaN</td>\n",
       "      <td>IAEX.AS</td>\n",
       "    </tr>\n",
       "    <tr>\n",
       "      <th>1</th>\n",
       "      <td>26-10-2020</td>\n",
       "      <td>09:05</td>\n",
       "      <td>VANGUARD S&amp;P500</td>\n",
       "      <td>IE00B3XXRP09</td>\n",
       "      <td>EAM</td>\n",
       "      <td>1</td>\n",
       "      <td>54.91</td>\n",
       "      <td>NaN</td>\n",
       "      <td>VUSA.AS</td>\n",
       "    </tr>\n",
       "  </tbody>\n",
       "</table>\n",
       "</div>"
      ],
      "text/plain": [
       "     buy_date buy_time          Product          ISIN Exchange  qty  \\\n",
       "0  02-11-2020    09:05      ISHARES AEX  IE00B0M62Y33      EAM    1   \n",
       "1  26-10-2020    09:05  VANGUARD S&P500  IE00B3XXRP09      EAM    1   \n",
       "\n",
       "   buy_value  costs   ticker  \n",
       "0      53.44    NaN  IAEX.AS  \n",
       "1      54.91    NaN  VUSA.AS  "
      ]
     },
     "execution_count": 12,
     "metadata": {},
     "output_type": "execute_result"
    }
   ],
   "source": [
    "#collect tickers in a list\n",
    "my_tickers = df_main['ticker'].tolist()\n",
    "\n",
    "#create variable tickers\n",
    "tickers = yf.Tickers(my_tickers)\n",
    "\n",
    "df_curr_price = pd.DataFrame(columns = ['ticker', 'curr_price'])\n",
    "\n",
    "#activate per ticker mode\n",
    "for ticker in my_tickers:\n",
    "    \n",
    "    #collect opening price\n",
    "    curr_price = yf.Ticker(ticker).info.get('open')\n",
    "    \n",
    "    #write to dataframe df_fin\n",
    "    df_curr_price = df_curr_price.append(pd.Series([ticker, curr_price], index=df_curr_price.columns), ignore_index=True)"
   ]
  },
  {
   "cell_type": "markdown",
   "metadata": {},
   "source": [
    "# Add calculations"
   ]
  },
  {
   "cell_type": "code",
   "execution_count": 14,
   "metadata": {},
   "outputs": [
    {
     "data": {
      "text/html": [
       "<div>\n",
       "<style scoped>\n",
       "    .dataframe tbody tr th:only-of-type {\n",
       "        vertical-align: middle;\n",
       "    }\n",
       "\n",
       "    .dataframe tbody tr th {\n",
       "        vertical-align: top;\n",
       "    }\n",
       "\n",
       "    .dataframe thead th {\n",
       "        text-align: right;\n",
       "    }\n",
       "</style>\n",
       "<table border=\"1\" class=\"dataframe\">\n",
       "  <thead>\n",
       "    <tr style=\"text-align: right;\">\n",
       "      <th></th>\n",
       "      <th>qty</th>\n",
       "      <th>buy_value</th>\n",
       "      <th>costs</th>\n",
       "    </tr>\n",
       "    <tr>\n",
       "      <th>ticker</th>\n",
       "      <th></th>\n",
       "      <th></th>\n",
       "      <th></th>\n",
       "    </tr>\n",
       "  </thead>\n",
       "  <tbody>\n",
       "    <tr>\n",
       "      <th>IAEX.AS</th>\n",
       "      <td>1</td>\n",
       "      <td>53.44</td>\n",
       "      <td>0.0</td>\n",
       "    </tr>\n",
       "    <tr>\n",
       "      <th>VUSA.AS</th>\n",
       "      <td>1</td>\n",
       "      <td>54.91</td>\n",
       "      <td>0.0</td>\n",
       "    </tr>\n",
       "  </tbody>\n",
       "</table>\n",
       "</div>"
      ],
      "text/plain": [
       "         qty  buy_value  costs\n",
       "ticker                        \n",
       "IAEX.AS    1      53.44    0.0\n",
       "VUSA.AS    1      54.91    0.0"
      ]
     },
     "execution_count": 14,
     "metadata": {},
     "output_type": "execute_result"
    }
   ],
   "source": [
    "#df average buy value\n",
    "df_avg_buy = df_main[['ticker', 'buy_value']]\n",
    "df_avg_buy = df_avg_buy.groupby('ticker').mean('buy_value')\n",
    "\n",
    "\n",
    "#df sum of shares\n",
    "df_sum_shares = df_main[['ticker', 'qty']]\n",
    "df_sum_shares = df_sum_shares.groupby('ticker').sum('qty')\n",
    "\n",
    "#df total buy value\n",
    "df_sum_buy = df_main[['ticker', 'qty', 'buy_value']]\n",
    "df_sum_buy['sum_buy'] = df_sum_buy['buy_value'] * df_sum_buy['qty']"
   ]
  },
  {
   "cell_type": "code",
   "execution_count": null,
   "metadata": {},
   "outputs": [],
   "source": [
    "#merge all new df's \n",
    "df_main = pd.merge(df_main, df_curr_price, how='inner', on 'ticker')"
   ]
  }
 ],
 "metadata": {
  "kernelspec": {
   "display_name": "Python 3",
   "language": "python",
   "name": "python3"
  },
  "language_info": {
   "codemirror_mode": {
    "name": "ipython",
    "version": 3
   },
   "file_extension": ".py",
   "mimetype": "text/x-python",
   "name": "python",
   "nbconvert_exporter": "python",
   "pygments_lexer": "ipython3",
   "version": "3.7.6"
  }
 },
 "nbformat": 4,
 "nbformat_minor": 4
}
